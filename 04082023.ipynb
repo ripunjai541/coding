{
  "nbformat": 4,
  "nbformat_minor": 0,
  "metadata": {
    "colab": {
      "provenance": [],
      "authorship_tag": "ABX9TyM3JIL//uy77IWIzwaEimEE",
      "include_colab_link": true
    },
    "kernelspec": {
      "name": "python3",
      "display_name": "Python 3"
    },
    "language_info": {
      "name": "python"
    }
  },
  "cells": [
    {
      "cell_type": "markdown",
      "metadata": {
        "id": "view-in-github",
        "colab_type": "text"
      },
      "source": [
        "<a href=\"https://colab.research.google.com/github/ripunjai541/coding/blob/master/04082023.ipynb\" target=\"_parent\"><img src=\"https://colab.research.google.com/assets/colab-badge.svg\" alt=\"Open In Colab\"/></a>"
      ]
    },
    {
      "cell_type": "code",
      "execution_count": 1,
      "metadata": {
        "colab": {
          "base_uri": "https://localhost:8080/"
        },
        "id": "B_7SkAkfyolf",
        "outputId": "d2ae2c41-4ea6-46a1-8f82-19a901a03550"
      },
      "outputs": [
        {
          "output_type": "stream",
          "name": "stdout",
          "text": [
            "[1, 2, 7, 5, 6, 0, 0]\n"
          ]
        }
      ],
      "source": [
        "nums=[1,2,0,7,5,0,6]\n",
        "\n",
        "n1=[]\n",
        "\n",
        "n2=[]\n",
        "\n",
        "for i in nums:\n",
        "\n",
        "\tif i==0:\n",
        "\n",
        "\t\tn1.append(i)\n",
        "\n",
        "\telse:\n",
        "\n",
        "\t\tn2.append(i)\n",
        "\n",
        "print(n2+n1)"
      ]
    },
    {
      "cell_type": "code",
      "source": [
        "nums=[1,2,0,7,5,0,6]\n",
        "\n",
        "n1=[]\n",
        "\n",
        "n2=[]\n",
        "\n",
        "for i in nums:\n",
        "  if i==0:\n",
        "    n1.append(i)\n",
        "  else:\n",
        "    n2.append(i)\n",
        "\n",
        "k=int(len(n2)/2)\n",
        "\n",
        "p=n2[ :k]\n",
        "\n",
        "p1=n2[k:]\n",
        "\n",
        "print(p+n1+p1)"
      ],
      "metadata": {
        "colab": {
          "base_uri": "https://localhost:8080/"
        },
        "id": "hR1LmnGSy_Kw",
        "outputId": "d7c1a8c7-0bce-4535-b91f-92759e62ac29"
      },
      "execution_count": 5,
      "outputs": [
        {
          "output_type": "stream",
          "name": "stdout",
          "text": [
            "[1, 2, 0, 0, 7, 5, 6]\n"
          ]
        }
      ]
    },
    {
      "cell_type": "code",
      "source": [
        "n=int(input(\"enter a number:\"))\n",
        "if n%2==0:\n",
        "  if n>6 and n<=20:\n",
        "    print(\"weird\")\n",
        "  else:\n",
        "    print(\"not weird\")\n",
        "else:\n",
        "  print(\"weird\")"
      ],
      "metadata": {
        "colab": {
          "base_uri": "https://localhost:8080/"
        },
        "id": "Sgc10KDUzVu7",
        "outputId": "d554667e-dc9d-4aeb-b133-b7a1ce3aea5d"
      },
      "execution_count": 6,
      "outputs": [
        {
          "output_type": "stream",
          "name": "stdout",
          "text": [
            "enter a number:21\n",
            "weird\n"
          ]
        }
      ]
    }
  ]
}