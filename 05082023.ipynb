{
  "nbformat": 4,
  "nbformat_minor": 0,
  "metadata": {
    "colab": {
      "provenance": [],
      "authorship_tag": "ABX9TyN1bCYoZStb1de40dPgluUR",
      "include_colab_link": true
    },
    "kernelspec": {
      "name": "python3",
      "display_name": "Python 3"
    },
    "language_info": {
      "name": "python"
    }
  },
  "cells": [
    {
      "cell_type": "markdown",
      "metadata": {
        "id": "view-in-github",
        "colab_type": "text"
      },
      "source": [
        "<a href=\"https://colab.research.google.com/github/ripunjai541/coding/blob/master/05082023.ipynb\" target=\"_parent\"><img src=\"https://colab.research.google.com/assets/colab-badge.svg\" alt=\"Open In Colab\"/></a>"
      ]
    },
    {
      "cell_type": "markdown",
      "source": [
        "reverse of a sentence\n"
      ],
      "metadata": {
        "id": "Dw1dGQ0ixcN1"
      }
    },
    {
      "cell_type": "code",
      "execution_count": 3,
      "metadata": {
        "colab": {
          "base_uri": "https://localhost:8080/"
        },
        "id": "2AxNWzhKvbn8",
        "outputId": "ef78c82e-bf7a-45dd-a0ee-90c0accceb68"
      },
      "outputs": [
        {
          "output_type": "stream",
          "name": "stdout",
          "text": [
            "World to Welcome\n"
          ]
        }
      ],
      "source": [
        "sen=\"Welcome to World\".split()\n",
        "n=\"\"\n",
        "for i in sen[::-1]:\n",
        "  n+=i+\" \"\n",
        "rev=n[:-1]\n",
        "print(rev)"
      ]
    },
    {
      "cell_type": "markdown",
      "source": [
        "squares of a numbers in given range"
      ],
      "metadata": {
        "id": "ERkj4A2exnZU"
      }
    },
    {
      "cell_type": "code",
      "source": [
        "n=int(input())\n",
        "for i in range(n+1):\n",
        "  print(i**2)"
      ],
      "metadata": {
        "colab": {
          "base_uri": "https://localhost:8080/"
        },
        "id": "HeAjjN0mwjVK",
        "outputId": "a48c8ffc-08e9-4406-db82-b1f7325e8aa8"
      },
      "execution_count": 4,
      "outputs": [
        {
          "output_type": "stream",
          "name": "stdout",
          "text": [
            "20\n",
            "0\n",
            "1\n",
            "4\n",
            "9\n",
            "16\n",
            "25\n",
            "36\n",
            "49\n",
            "64\n",
            "81\n",
            "100\n",
            "121\n",
            "144\n",
            "169\n",
            "196\n",
            "225\n",
            "256\n",
            "289\n",
            "324\n",
            "361\n",
            "400\n"
          ]
        }
      ]
    }
  ]
}