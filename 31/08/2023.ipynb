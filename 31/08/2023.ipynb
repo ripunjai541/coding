{
  "nbformat": 4,
  "nbformat_minor": 0,
  "metadata": {
    "colab": {
      "provenance": [],
      "authorship_tag": "ABX9TyPCtMa0Lm4AbL2Je5R5WOAp",
      "include_colab_link": true
    },
    "kernelspec": {
      "name": "python3",
      "display_name": "Python 3"
    },
    "language_info": {
      "name": "python"
    }
  },
  "cells": [
    {
      "cell_type": "markdown",
      "metadata": {
        "id": "view-in-github",
        "colab_type": "text"
      },
      "source": [
        "<a href=\"https://colab.research.google.com/github/ripunjai541/coding/blob/master/31/08/2023.ipynb\" target=\"_parent\"><img src=\"https://colab.research.google.com/assets/colab-badge.svg\" alt=\"Open In Colab\"/></a>"
      ]
    },
    {
      "cell_type": "markdown",
      "source": [
        "reverse of a sentence\n"
      ],
      "metadata": {
        "id": "Dw1dGQ0ixcN1"
      }
    },
    {
      "cell_type": "code",
      "execution_count": null,
      "metadata": {
        "colab": {
          "base_uri": "https://localhost:8080/"
        },
        "id": "2AxNWzhKvbn8",
        "outputId": "ef78c82e-bf7a-45dd-a0ee-90c0accceb68"
      },
      "outputs": [
        {
          "output_type": "stream",
          "name": "stdout",
          "text": [
            "World to Welcome\n"
          ]
        }
      ],
      "source": [
        "sen=\"Welcome to World\".split()\n",
        "n=\"\"\n",
        "for i in sen[::-1]:\n",
        "  n+=i+\" \"\n",
        "rev=n[:-1]\n",
        "print(rev)"
      ]
    },
    {
      "cell_type": "markdown",
      "source": [
        "squares of a numbers in given range"
      ],
      "metadata": {
        "id": "ERkj4A2exnZU"
      }
    },
    {
      "cell_type": "code",
      "source": [
        "n=int(input())\n",
        "for i in range(n+1):\n",
        "  print(i**2)"
      ],
      "metadata": {
        "colab": {
          "base_uri": "https://localhost:8080/"
        },
        "id": "HeAjjN0mwjVK",
        "outputId": "a48c8ffc-08e9-4406-db82-b1f7325e8aa8"
      },
      "execution_count": null,
      "outputs": [
        {
          "output_type": "stream",
          "name": "stdout",
          "text": [
            "20\n",
            "0\n",
            "1\n",
            "4\n",
            "9\n",
            "16\n",
            "25\n",
            "36\n",
            "49\n",
            "64\n",
            "81\n",
            "100\n",
            "121\n",
            "144\n",
            "169\n",
            "196\n",
            "225\n",
            "256\n",
            "289\n",
            "324\n",
            "361\n",
            "400\n"
          ]
        }
      ]
    },
    {
      "cell_type": "code",
      "source": [
        "n1=\"123\"\n",
        "n2=\"11\"\n",
        "l1=int(n1)\n",
        "l2=int(n2)\n",
        "l=l1+l2\n",
        "print(str(l))"
      ],
      "metadata": {
        "colab": {
          "base_uri": "https://localhost:8080/"
        },
        "id": "P7UR-xBnu5BA",
        "outputId": "9152f6bd-5812-4415-b569-416b473b393f"
      },
      "execution_count": null,
      "outputs": [
        {
          "output_type": "stream",
          "name": "stdout",
          "text": [
            "134\n"
          ]
        }
      ]
    },
    {
      "cell_type": "code",
      "source": [
        "n=[3,0,1]\n",
        "k=0\n",
        "for i in range(len(n)+1):\n",
        "  if i not in n:\n",
        "    k+=i\n",
        "print(k)\n"
      ],
      "metadata": {
        "colab": {
          "base_uri": "https://localhost:8080/"
        },
        "id": "0TafeoWOvvSt",
        "outputId": "99fe763f-e7b0-4c45-a15d-189127589192"
      },
      "execution_count": null,
      "outputs": [
        {
          "output_type": "stream",
          "name": "stdout",
          "text": [
            "2\n"
          ]
        }
      ]
    },
    {
      "cell_type": "code",
      "source": [
        "n=int(input())\n",
        "s=0\n",
        "while n>5:\n",
        "  s=0\n",
        "  while n!=0:\n",
        "    r=n%10\n",
        "    s=s+r**2\n",
        "    n=n//10\n",
        "  n=s\n",
        "if s==1:\n",
        "  print(\"happy number\")\n",
        "else:\n",
        "  print(\"not happy number\")"
      ],
      "metadata": {
        "colab": {
          "base_uri": "https://localhost:8080/"
        },
        "id": "USp5a7fTyg1i",
        "outputId": "d722c257-8ac0-4de1-b27b-9c753cca2fcf"
      },
      "execution_count": null,
      "outputs": [
        {
          "output_type": "stream",
          "name": "stdout",
          "text": [
            "20\n",
            "not happy number\n"
          ]
        }
      ]
    },
    {
      "cell_type": "code",
      "source": [
        "n=int(input())\n",
        "s=0\n",
        "for i in range(1,n):\n",
        "  if n%i==0:\n",
        "    s=s+i\n",
        "if s==n:\n",
        "  print(\"perfect\")\n",
        "else:\n",
        "  print(\"not perfect\")"
      ],
      "metadata": {
        "colab": {
          "base_uri": "https://localhost:8080/"
        },
        "id": "8ZWvKlBA1dBH",
        "outputId": "3e89e599-2916-4587-a7c7-0352be7733a9"
      },
      "execution_count": null,
      "outputs": [
        {
          "output_type": "stream",
          "name": "stdout",
          "text": [
            "27\n",
            "not perfect\n"
          ]
        }
      ]
    },
    {
      "cell_type": "code",
      "source": [
        "nums=[1,22,555,7896,698324]\n",
        "k=[]\n",
        "for i in nums:\n",
        "  k.append(str(i))\n",
        "c=0\n",
        "for i in k:\n",
        "  if len(i)%2==0:\n",
        "    c+=1\n",
        "print(c)"
      ],
      "metadata": {
        "colab": {
          "base_uri": "https://localhost:8080/"
        },
        "id": "eHVkAVX02VKv",
        "outputId": "04293cf2-d09f-48b5-8e7d-9b78e97f9a18"
      },
      "execution_count": null,
      "outputs": [
        {
          "output_type": "stream",
          "name": "stdout",
          "text": [
            "3\n"
          ]
        }
      ]
    },
    {
      "cell_type": "code",
      "source": [
        "n=[2,3,4,6,5,6]\n",
        "k=set(n)\n",
        "p=[]\n",
        "for i in k:\n",
        "  p.append(int(i))\n",
        "  p.sort()\n",
        "print(p[-2])"
      ],
      "metadata": {
        "colab": {
          "base_uri": "https://localhost:8080/"
        },
        "id": "LWB5IFjb6RaM",
        "outputId": "69eb3a8d-e388-451b-b351-4ae1cd885f04"
      },
      "execution_count": null,
      "outputs": [
        {
          "output_type": "stream",
          "name": "stdout",
          "text": [
            "5\n"
          ]
        }
      ]
    },
    {
      "cell_type": "code",
      "source": [
        "queue=[]\n",
        "def enqueue():\n",
        "  if len(queue)==n:\n",
        "    print(\"queue is full!\")\n",
        "  else:\n",
        "    element=int(input(\"enter a element:\"))\n",
        "    queue.append(element)\n",
        "    print(queue)\n",
        "def dequeue():\n",
        "  if not queue:\n",
        "    print(\"queue is empty\")\n",
        "  else:\n",
        "    e=queue.pop(0)\n",
        "    print(\"removed element:\",e)\n",
        "    print(queue)\n",
        "def display():\n",
        "  print(queue)\n",
        "n=int(input(\"enter queue size:\"))\n",
        "while True:\n",
        "  print(\"enter the operation 1.add 2.remove 3.display 4.exit\")\n",
        "  choice=int(input(\"enter choice number:\"))\n",
        "  if choice==1:\n",
        "    enqueue()\n",
        "  elif choice==2:\n",
        "    dequeue()\n",
        "  elif choice==3:\n",
        "    display()\n",
        "  elif choice==4:\n",
        "    break;\n",
        "  else:\n",
        "    print(\"enter the correct operation number:\")"
      ],
      "metadata": {
        "colab": {
          "base_uri": "https://localhost:8080/"
        },
        "id": "peotJW7RDftE",
        "outputId": "037bfcbb-98e2-42d1-8146-ac072bcb4d24"
      },
      "execution_count": 5,
      "outputs": [
        {
          "name": "stdout",
          "output_type": "stream",
          "text": [
            "enter queue size:3\n",
            "enter the operation 1.add 2.remove 3.display 4.exit\n",
            "enter choice number:1\n",
            "enter a element:11\n",
            "[11]\n",
            "enter the operation 1.add 2.remove 3.display 4.exit\n",
            "enter choice number:1\n",
            "enter a element:22\n",
            "[11, 22]\n",
            "enter the operation 1.add 2.remove 3.display 4.exit\n",
            "enter choice number:1\n",
            "enter a element:33\n",
            "[11, 22, 33]\n",
            "enter the operation 1.add 2.remove 3.display 4.exit\n",
            "enter choice number:1\n",
            "queue is full!\n",
            "enter the operation 1.add 2.remove 3.display 4.exit\n",
            "enter choice number:2\n",
            "removed element: 11\n",
            "[22, 33]\n",
            "enter the operation 1.add 2.remove 3.display 4.exit\n",
            "enter choice number:2\n",
            "removed element: 22\n",
            "[33]\n",
            "enter the operation 1.add 2.remove 3.display 4.exit\n",
            "enter choice number:3\n",
            "[33]\n",
            "enter the operation 1.add 2.remove 3.display 4.exit\n",
            "enter choice number:4\n"
          ]
        }
      ]
    },
    {
      "cell_type": "code",
      "source": [
        "stack=[]\n",
        "def push():\n",
        "  if len(stack)==n:\n",
        "    print(\"stack is full!\")\n",
        "  else:\n",
        "    element=int(input(\"enter a element:\"))\n",
        "    stack.append(element)\n",
        "    print(stack)\n",
        "def pop():\n",
        "  if not stack:\n",
        "    print(\"stack is empty\")\n",
        "  else:\n",
        "    e=stack.pop()\n",
        "    print(\"removed element:\",e)\n",
        "    print(stack)\n",
        "n=int(input(\"enter stack size:\"))\n",
        "while True:\n",
        "  print(\"enter the operation 1.push 2.pop 3.quit\")\n",
        "  choice=int(input(\"enter choice number:\"))\n",
        "  if choice==1:\n",
        "    push()\n",
        "  elif choice==2:\n",
        "    pop()\n",
        "  elif choice==3:\n",
        "    break;\n",
        "  else:\n",
        "    print(\"enter the correct operation number:\")"
      ],
      "metadata": {
        "colab": {
          "base_uri": "https://localhost:8080/"
        },
        "id": "QswRYOYEEbcM",
        "outputId": "509af2aa-91e9-4c1d-f484-3b88d635c7c5"
      },
      "execution_count": 6,
      "outputs": [
        {
          "name": "stdout",
          "output_type": "stream",
          "text": [
            "enter stack size:3\n",
            "enter the operation 1.push 2.pop 3.quit\n",
            "enter choice number:1\n",
            "enter a element:21\n",
            "[21]\n",
            "enter the operation 1.push 2.pop 3.quit\n",
            "enter choice number:1\n",
            "enter a element:22\n",
            "[21, 22]\n",
            "enter the operation 1.push 2.pop 3.quit\n",
            "enter choice number:1\n",
            "enter a element:33\n",
            "[21, 22, 33]\n",
            "enter the operation 1.push 2.pop 3.quit\n",
            "enter choice number:2\n",
            "removed element: 33\n",
            "[21, 22]\n",
            "enter the operation 1.push 2.pop 3.quit\n",
            "enter choice number:2\n",
            "removed element: 22\n",
            "[21]\n",
            "enter the operation 1.push 2.pop 3.quit\n",
            "enter choice number:3\n"
          ]
        }
      ]
    },
    {
      "cell_type": "code",
      "source": [
        "def fact(n):\n",
        "  f=1\n",
        "  for i in range(1,n+1):\n",
        "    f=f*i\n",
        "  print(f)\n",
        "fact(5)"
      ],
      "metadata": {
        "colab": {
          "base_uri": "https://localhost:8080/"
        },
        "id": "o0lVNiPjErPv",
        "outputId": "6db4df2b-b12e-491d-d71f-8ebc12f83894"
      },
      "execution_count": 7,
      "outputs": [
        {
          "output_type": "stream",
          "name": "stdout",
          "text": [
            "120\n"
          ]
        }
      ]
    },
    {
      "cell_type": "code",
      "source": [
        "a=20\n",
        "b=15\n",
        "l=[]\n",
        "for i in range(1,b+1):\n",
        "  if a%i==0 and b%i==0:\n",
        "    l.append(i)\n",
        "hcf=max(l)\n",
        "print(\"hcf=\",hcf)\n",
        "lcm=a*b//hcf\n",
        "print(\"lcm=\",lcm)"
      ],
      "metadata": {
        "colab": {
          "base_uri": "https://localhost:8080/"
        },
        "id": "GpVfIIsfE7Yt",
        "outputId": "b9f6fcb4-8c55-4548-f5c9-b364c3059966"
      },
      "execution_count": 32,
      "outputs": [
        {
          "output_type": "stream",
          "name": "stdout",
          "text": [
            "hcf= 5\n",
            "lcm= 60\n"
          ]
        }
      ]
    },
    {
      "cell_type": "code",
      "source": [
        "n=546000\n",
        "n1=str(n)\n",
        "n1=n1[::-1]\n",
        "print(n1)\n",
        "c=0\n",
        "for i in n1:\n",
        "  if i=='0':\n",
        "    c+=1\n",
        "  else:\n",
        "    break\n",
        "print(c)"
      ],
      "metadata": {
        "colab": {
          "base_uri": "https://localhost:8080/"
        },
        "id": "eQU_kk62H50r",
        "outputId": "908284de-881d-4f78-fb02-0505ba03b463"
      },
      "execution_count": 39,
      "outputs": [
        {
          "output_type": "stream",
          "name": "stdout",
          "text": [
            "000645\n",
            "3\n"
          ]
        }
      ]
    }
  ]
}