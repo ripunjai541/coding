{
  "nbformat": 4,
  "nbformat_minor": 0,
  "metadata": {
    "colab": {
      "provenance": [],
      "authorship_tag": "ABX9TyOKSkEhsJpBhkAghoFjGiHU",
      "include_colab_link": true
    },
    "kernelspec": {
      "name": "python3",
      "display_name": "Python 3"
    },
    "language_info": {
      "name": "python"
    }
  },
  "cells": [
    {
      "cell_type": "markdown",
      "metadata": {
        "id": "view-in-github",
        "colab_type": "text"
      },
      "source": [
        "<a href=\"https://colab.research.google.com/github/ripunjai541/coding/blob/master/DSA_PROGRAMS.ipynb\" target=\"_parent\"><img src=\"https://colab.research.google.com/assets/colab-badge.svg\" alt=\"Open In Colab\"/></a>"
      ]
    },
    {
      "cell_type": "markdown",
      "source": [
        "BINARY SEARCH\n"
      ],
      "metadata": {
        "id": "pYaRrd1b-foQ"
      }
    },
    {
      "cell_type": "code",
      "execution_count": 1,
      "metadata": {
        "colab": {
          "base_uri": "https://localhost:8080/"
        },
        "id": "YLz7BlY36ocI",
        "outputId": "c1bc27f9-d0b3-43d9-8133-976b033bb69e"
      },
      "outputs": [
        {
          "output_type": "stream",
          "name": "stdout",
          "text": [
            "1,2,3,4,5,6,7,8,9\n",
            "enter a value:8\n",
            "7\n"
          ]
        }
      ],
      "source": [
        "def bin_search(val,nums):\n",
        "    first=0\n",
        "    last=len(nums)-1\n",
        "    while last>=first:\n",
        "        mid=(first+last)//2\n",
        "        if nums[mid]==val:\n",
        "            return mid\n",
        "        elif nums[mid]<val:\n",
        "            first=mid+1\n",
        "        else:\n",
        "            last=mid-1\n",
        "    return 'not found'\n",
        "nums=list(map(int,input().split(',')))\n",
        "val=int(input(\"enter a value:\"))\n",
        "print(bin_search(val,nums))"
      ]
    },
    {
      "cell_type": "markdown",
      "source": [
        "LINEAR SEARCH"
      ],
      "metadata": {
        "id": "G3DPNWPc-kci"
      }
    },
    {
      "cell_type": "code",
      "source": [
        "def lin_search(cards,val):\n",
        "  pos=0\n",
        "  print(val)\n",
        "  while pos<len(cards):\n",
        "    if cards[pos]==val:\n",
        "      return pos\n",
        "    pos=pos+1\n",
        "    return 'not found'\n",
        "cards=list(map(int,input().split(',')))\n",
        "val=int(input(\"enter a value:\"))\n",
        "k=lin_search(cards,val)\n",
        "print(\"position=\",k)"
      ],
      "metadata": {
        "colab": {
          "base_uri": "https://localhost:8080/"
        },
        "id": "YvXEeEyR659M",
        "outputId": "37b81cd9-9a91-4921-8317-cde6156c5e1c"
      },
      "execution_count": 15,
      "outputs": [
        {
          "output_type": "stream",
          "name": "stdout",
          "text": [
            "1,2,3,4,5\n",
            "enter a value:6\n",
            "6\n",
            "position= not found\n"
          ]
        }
      ]
    },
    {
      "cell_type": "markdown",
      "source": [
        "SUM TO TWO IN TWO OBJECTS"
      ],
      "metadata": {
        "id": "wHk4WTPFI1ep"
      }
    },
    {
      "cell_type": "code",
      "source": [
        "class sum:\n",
        "  def __init__(s,m1,m2):\n",
        "    s.m1=m1\n",
        "    s.m2=m2\n",
        "n=int(input(\"enter range:\"))\n",
        "x=[]\n",
        "for i in range(n):\n",
        "  a1=int(input(\"enter number:\"))\n",
        "  a2=int(input(\"enter number:\"))\n",
        "  x.append(sum(a1,a2))\n",
        "print(x[0].m1+x[0].m2)\n",
        "print(x[0].m1+x[0].m2)"
      ],
      "metadata": {
        "colab": {
          "base_uri": "https://localhost:8080/"
        },
        "id": "2vP0ba0VDeu2",
        "outputId": "5af1446f-5c67-4bde-c955-de0699eab841"
      },
      "execution_count": 20,
      "outputs": [
        {
          "output_type": "stream",
          "name": "stdout",
          "text": [
            "enter range:2\n",
            "enter number:1\n",
            "enter number:2\n",
            "enter number:3\n",
            "enter number:4\n",
            "3\n",
            "3\n"
          ]
        }
      ]
    },
    {
      "cell_type": "markdown",
      "source": [],
      "metadata": {
        "id": "-nkgk8DRK0Sb"
      }
    }
  ]
}