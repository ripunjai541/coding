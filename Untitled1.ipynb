{
  "nbformat": 4,
  "nbformat_minor": 0,
  "metadata": {
    "colab": {
      "provenance": [],
      "authorship_tag": "ABX9TyNVJ08zh3DDikHfdb4wn9ds",
      "include_colab_link": true
    },
    "kernelspec": {
      "name": "python3",
      "display_name": "Python 3"
    },
    "language_info": {
      "name": "python"
    }
  },
  "cells": [
    {
      "cell_type": "markdown",
      "metadata": {
        "id": "view-in-github",
        "colab_type": "text"
      },
      "source": [
        "<a href=\"https://colab.research.google.com/github/ripunjai541/coding/blob/master/Untitled1.ipynb\" target=\"_parent\"><img src=\"https://colab.research.google.com/assets/colab-badge.svg\" alt=\"Open In Colab\"/></a>"
      ]
    },
    {
      "cell_type": "code",
      "execution_count": null,
      "metadata": {
        "id": "acMAX5zJKi33",
        "colab": {
          "base_uri": "https://localhost:8080/"
        },
        "outputId": "98636add-8112-4a88-ac88-717719f3bfd9"
      },
      "outputs": [
        {
          "output_type": "stream",
          "name": "stdout",
          "text": [
            "enter a:10\n",
            "enter b:10\n",
            "both are equal\n"
          ]
        }
      ],
      "source": [
        "a=int(input(\"enter a:\"))\n",
        "b=int(input(\"enter b:\"))\n",
        "if a-b!=0:\n",
        "  print(\"both are not equal\")\n",
        "else:\n",
        "  print(\"both are equal\")"
      ]
    },
    {
      "cell_type": "code",
      "source": [
        "a=['for','while','if','else','elif']\n",
        "word=input(\"enter a word\")\n",
        "if word in a:\n",
        "  print(\"valid keyword\")\n",
        "else:\n",
        "  print(\"invalid keyword\")\n"
      ],
      "metadata": {
        "colab": {
          "base_uri": "https://localhost:8080/"
        },
        "id": "mSXxJbDmLEAi",
        "outputId": "dead9835-32a6-45a6-83bc-8298f28e15f8"
      },
      "execution_count": null,
      "outputs": [
        {
          "output_type": "stream",
          "name": "stdout",
          "text": [
            "enter a wordelse\n",
            "valid keyword\n"
          ]
        }
      ]
    },
    {
      "cell_type": "code",
      "source": [
        "n=int(input(\"enter a number\"))\n",
        "if n//2*2==n:\n",
        "  print(\"even number\")\n",
        "else:\n",
        "  print(\"odd number\")"
      ],
      "metadata": {
        "colab": {
          "base_uri": "https://localhost:8080/"
        },
        "id": "mVbFFZ6MLtzy",
        "outputId": "a4c4a422-40fa-4161-b4ed-71c0c7b52c1f"
      },
      "execution_count": null,
      "outputs": [
        {
          "output_type": "stream",
          "name": "stdout",
          "text": [
            "enter a number5\n",
            "odd number\n"
          ]
        }
      ]
    },
    {
      "cell_type": "code",
      "source": [
        "n=int(input(\"enter a number:\"))\n",
        "if n==abs(n):\n",
        "  print(\"+ve number\")\n",
        "else:\n",
        "  print(\"-ve number\")"
      ],
      "metadata": {
        "colab": {
          "base_uri": "https://localhost:8080/"
        },
        "id": "UesnvhZyMiyX",
        "outputId": "5b7cbce8-c262-4bb5-c917-92ee5bb5fe68"
      },
      "execution_count": null,
      "outputs": [
        {
          "output_type": "stream",
          "name": "stdout",
          "text": [
            "enter a number:-5\n",
            "-ve number\n"
          ]
        }
      ]
    },
    {
      "cell_type": "code",
      "source": [
        "for Number in range (1, 101):\n",
        "    count = 0\n",
        "    for i in range(2, (Number//2 + 1)):\n",
        "        if(Number % i == 0):\n",
        "            count = count + 1\n",
        "            break\n",
        "\n",
        "    if (count == 0 and Number != 1):\n",
        "        print(\" %d\" %Number, end = '  ')"
      ],
      "metadata": {
        "id": "QecwXSaCr2bA",
        "outputId": "8058672e-3ead-435b-9b1b-01e6dcd538d6",
        "colab": {
          "base_uri": "https://localhost:8080/"
        }
      },
      "execution_count": null,
      "outputs": [
        {
          "output_type": "stream",
          "name": "stdout",
          "text": [
            " 2   3   5   7   11   13   17   19   23   29   31   37   41   43   47   53   59   61   67   71   73   79   83   89   97  "
          ]
        }
      ]
    },
    {
      "cell_type": "code",
      "source": [],
      "metadata": {
        "id": "dKjxLF24kINp"
      },
      "execution_count": null,
      "outputs": []
    },
    {
      "cell_type": "code",
      "source": [],
      "metadata": {
        "id": "Kmq0iWqeI6zJ"
      },
      "execution_count": null,
      "outputs": []
    }
  ]
}