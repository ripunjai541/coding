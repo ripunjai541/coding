{
  "nbformat": 4,
  "nbformat_minor": 0,
  "metadata": {
    "colab": {
      "provenance": [],
      "authorship_tag": "ABX9TyNFv5MRR2ulV45LuIGkDzch",
      "include_colab_link": true
    },
    "kernelspec": {
      "name": "python3",
      "display_name": "Python 3"
    },
    "language_info": {
      "name": "python"
    }
  },
  "cells": [
    {
      "cell_type": "markdown",
      "metadata": {
        "id": "view-in-github",
        "colab_type": "text"
      },
      "source": [
        "<a href=\"https://colab.research.google.com/github/ripunjai541/coding/blob/master/day_programs.ipynb\" target=\"_parent\"><img src=\"https://colab.research.google.com/assets/colab-badge.svg\" alt=\"Open In Colab\"/></a>"
      ]
    },
    {
      "cell_type": "markdown",
      "source": [
        "reverse of a sentence\n"
      ],
      "metadata": {
        "id": "Dw1dGQ0ixcN1"
      }
    },
    {
      "cell_type": "code",
      "execution_count": null,
      "metadata": {
        "colab": {
          "base_uri": "https://localhost:8080/"
        },
        "id": "2AxNWzhKvbn8",
        "outputId": "ef78c82e-bf7a-45dd-a0ee-90c0accceb68"
      },
      "outputs": [
        {
          "output_type": "stream",
          "name": "stdout",
          "text": [
            "World to Welcome\n"
          ]
        }
      ],
      "source": [
        "sen=\"Welcome to World\".split()\n",
        "n=\"\"\n",
        "for i in sen[::-1]:\n",
        "  n+=i+\" \"\n",
        "rev=n[:-1]\n",
        "print(rev)"
      ]
    },
    {
      "cell_type": "markdown",
      "source": [
        "squares of a numbers in given range"
      ],
      "metadata": {
        "id": "ERkj4A2exnZU"
      }
    },
    {
      "cell_type": "code",
      "source": [
        "n=int(input())\n",
        "for i in range(n+1):\n",
        "  print(i**2)"
      ],
      "metadata": {
        "colab": {
          "base_uri": "https://localhost:8080/"
        },
        "id": "HeAjjN0mwjVK",
        "outputId": "a48c8ffc-08e9-4406-db82-b1f7325e8aa8"
      },
      "execution_count": null,
      "outputs": [
        {
          "output_type": "stream",
          "name": "stdout",
          "text": [
            "20\n",
            "0\n",
            "1\n",
            "4\n",
            "9\n",
            "16\n",
            "25\n",
            "36\n",
            "49\n",
            "64\n",
            "81\n",
            "100\n",
            "121\n",
            "144\n",
            "169\n",
            "196\n",
            "225\n",
            "256\n",
            "289\n",
            "324\n",
            "361\n",
            "400\n"
          ]
        }
      ]
    },
    {
      "cell_type": "code",
      "source": [
        "n1=\"123\"\n",
        "n2=\"11\"\n",
        "l1=int(n1)\n",
        "l2=int(n2)\n",
        "l=l1+l2\n",
        "print(str(l))"
      ],
      "metadata": {
        "colab": {
          "base_uri": "https://localhost:8080/"
        },
        "id": "P7UR-xBnu5BA",
        "outputId": "9152f6bd-5812-4415-b569-416b473b393f"
      },
      "execution_count": null,
      "outputs": [
        {
          "output_type": "stream",
          "name": "stdout",
          "text": [
            "134\n"
          ]
        }
      ]
    },
    {
      "cell_type": "code",
      "source": [
        "n=[3,0,1]\n",
        "k=0\n",
        "for i in range(len(n)+1):\n",
        "  if i not in n:\n",
        "    k+=i\n",
        "print(k)\n"
      ],
      "metadata": {
        "colab": {
          "base_uri": "https://localhost:8080/"
        },
        "id": "0TafeoWOvvSt",
        "outputId": "99fe763f-e7b0-4c45-a15d-189127589192"
      },
      "execution_count": 19,
      "outputs": [
        {
          "output_type": "stream",
          "name": "stdout",
          "text": [
            "2\n"
          ]
        }
      ]
    },
    {
      "cell_type": "code",
      "source": [
        "n=int(input())\n",
        "s=0\n",
        "while n>5:\n",
        "  s=0\n",
        "  while n!=0:\n",
        "    r=n%10\n",
        "    s=s+r**2\n",
        "    n=n//10\n",
        "  n=s\n",
        "if s==1:\n",
        "  print(\"happy number\")\n",
        "else:\n",
        "  print(\"not happy number\")"
      ],
      "metadata": {
        "colab": {
          "base_uri": "https://localhost:8080/"
        },
        "id": "USp5a7fTyg1i",
        "outputId": "d722c257-8ac0-4de1-b27b-9c753cca2fcf"
      },
      "execution_count": 6,
      "outputs": [
        {
          "output_type": "stream",
          "name": "stdout",
          "text": [
            "20\n",
            "not happy number\n"
          ]
        }
      ]
    },
    {
      "cell_type": "code",
      "source": [
        "n=int(input())\n",
        "s=0\n",
        "for i in range(1,n):\n",
        "  if n%i==0:\n",
        "    s=s+i\n",
        "if s==n:\n",
        "  print(\"perfect\")\n",
        "else:\n",
        "  print(\"not perfect\")"
      ],
      "metadata": {
        "colab": {
          "base_uri": "https://localhost:8080/"
        },
        "id": "8ZWvKlBA1dBH",
        "outputId": "3e89e599-2916-4587-a7c7-0352be7733a9"
      },
      "execution_count": 5,
      "outputs": [
        {
          "output_type": "stream",
          "name": "stdout",
          "text": [
            "27\n",
            "not perfect\n"
          ]
        }
      ]
    },
    {
      "cell_type": "code",
      "source": [
        "nums=[1,22,555,7896,698324]\n",
        "k=[]\n",
        "for i in nums:\n",
        "  k.append(str(i))\n",
        "c=0\n",
        "for i in k:\n",
        "  if len(i)%2==0:\n",
        "    c+=1\n",
        "print(c)"
      ],
      "metadata": {
        "colab": {
          "base_uri": "https://localhost:8080/"
        },
        "id": "eHVkAVX02VKv",
        "outputId": "04293cf2-d09f-48b5-8e7d-9b78e97f9a18"
      },
      "execution_count": 13,
      "outputs": [
        {
          "output_type": "stream",
          "name": "stdout",
          "text": [
            "3\n"
          ]
        }
      ]
    },
    {
      "cell_type": "code",
      "source": [
        "n=[2,3,4,6,5,6]\n",
        "k=set(n)\n",
        "p=[]\n",
        "for i in k:\n",
        "  p.append(int(i))\n",
        "  p.sort()\n",
        "print(p[-2])"
      ],
      "metadata": {
        "colab": {
          "base_uri": "https://localhost:8080/"
        },
        "id": "LWB5IFjb6RaM",
        "outputId": "69eb3a8d-e388-451b-b351-4ae1cd885f04"
      },
      "execution_count": 15,
      "outputs": [
        {
          "output_type": "stream",
          "name": "stdout",
          "text": [
            "5\n"
          ]
        }
      ]
    }
  ]
}